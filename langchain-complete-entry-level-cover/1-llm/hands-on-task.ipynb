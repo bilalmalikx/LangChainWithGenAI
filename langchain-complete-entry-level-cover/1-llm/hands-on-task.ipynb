{
 "cells": [
  {
   "cell_type": "code",
   "execution_count": 3,
   "id": "756005aa",
   "metadata": {},
   "outputs": [
    {
     "name": "stdout",
     "output_type": "stream",
     "text": [
      "To find 15% of 200, you can multiply 200 by 0.15 (which is the decimal equivalent of 15%):\n",
      "\n",
      "200 * 0.15 = 30\n",
      "\n",
      "So, 15% of 200 is 30.\n"
     ]
    }
   ],
   "source": [
    "from langchain_core.messages import HumanMessage,AIMessage,SystemMessage\n",
    "from langchain.chat_models import ChatOpenAI\n",
    "from dotenv import load_dotenv\n",
    "load_dotenv()\n",
    "\n",
    "model = ChatOpenAI()\n",
    "\n",
    "message = [\n",
    "    SystemMessage(content=\"You are a math tutor. Answer clearly and step-by-step.\"),\n",
    "    HumanMessage(content=\"What is 12 * 8?\"),\n",
    "    AIMessage(content=\"12 * 8 is 96.\"),\n",
    "    HumanMessage(content=\"What is 15% of 200?\")\n",
    "]\n",
    "\n",
    "response = model(message)\n",
    "print(response.content)"
   ]
  }
 ],
 "metadata": {
  "kernelspec": {
   "display_name": "langchain-env",
   "language": "python",
   "name": "python3"
  },
  "language_info": {
   "codemirror_mode": {
    "name": "ipython",
    "version": 3
   },
   "file_extension": ".py",
   "mimetype": "text/x-python",
   "name": "python",
   "nbconvert_exporter": "python",
   "pygments_lexer": "ipython3",
   "version": "3.11.13"
  }
 },
 "nbformat": 4,
 "nbformat_minor": 5
}
