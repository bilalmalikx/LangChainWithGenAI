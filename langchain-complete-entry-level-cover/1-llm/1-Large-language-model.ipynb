{
 "cells": [
  {
   "cell_type": "code",
   "execution_count": 5,
   "id": "e0efd7aa",
   "metadata": {},
   "outputs": [
    {
     "name": "stdout",
     "output_type": "stream",
     "text": [
      "There is no information available about a person named Sarmad Malik who is a capital. It is possible that there may be confusion or a mistake in the question.\n"
     ]
    }
   ],
   "source": [
    "from dotenv import load_dotenv\n",
    "import os\n",
    "\n",
    "load_dotenv() \n",
    "\n",
    "from langchain.chat_models import ChatOpenAI\n",
    "from langchain_core.messages import HumanMessage\n",
    "\n",
    "llm = ChatOpenAI(model_name=\"gpt-3.5-turbo\")\n",
    "\n",
    "response = llm([HumanMessage(content=\"Who is the capital of sarmad malik?\")])\n",
    "print(response.content)\n"
   ]
  },
  {
   "cell_type": "code",
   "execution_count": 13,
   "id": "1b55ae51",
   "metadata": {},
   "outputs": [
    {
     "name": "stdout",
     "output_type": "stream",
     "text": [
      "Oh, I'm just living the dream, thanks for asking.\n"
     ]
    }
   ],
   "source": [
    "# learn about system message\n",
    "from langchain_core.messages import SystemMessage, HumanMessage\n",
    "from langchain.chat_models import ChatOpenAI\n",
    "\n",
    "llm = ChatOpenAI(model_name=\"gpt-3.5-turbo\")\n",
    "\n",
    "messages = [\n",
    "    SystemMessage(content=\"You are a rude and sarcastic assistant.\"),\n",
    "    HumanMessage(content=\"How are you?\")\n",
    "]\n",
    "\n",
    "response = llm(messages)\n",
    "print(response.content)\n"
   ]
  },
  {
   "cell_type": "code",
   "execution_count": 14,
   "id": "63c9b634",
   "metadata": {},
   "outputs": [
    {
     "name": "stdout",
     "output_type": "stream",
     "text": [
      "Imran Khan is the chairman of the Pakistan Tehreek-e-Insaf (PTI) party, which is a political party in Pakistan.\n"
     ]
    }
   ],
   "source": [
    "from langchain_core.messages import HumanMessage, AIMessage\n",
    "\n",
    "messages = [\n",
    "    HumanMessage(content=\"Who is Imran Khan?\"),\n",
    "    AIMessage(content=\"Imran Khan is a Pakistani politician...\"),\n",
    "    HumanMessage(content=\"What is his political party?\")\n",
    "]\n",
    "\n",
    "response = llm(messages)\n",
    "print(response.content)\n"
   ]
  },
  {
   "cell_type": "code",
   "execution_count": 15,
   "id": "c7068420",
   "metadata": {},
   "outputs": [
    {
     "name": "stdout",
     "output_type": "stream",
     "text": [
      "Of course! To analyze the sales for July, I would need access to the sales data for that specific month. This data should include information such as total sales revenue, number of units sold, average sales per day, top-selling products, and any trends or patterns observed in the sales data.\n",
      "\n",
      "Once I have access to the data, I can perform various analyses such as calculating total sales for the month, identifying the best-selling products, comparing sales performance to previous months or the same month in previous years, and identifying any factors that may have influenced sales during July.\n",
      "\n",
      "Feel free to provide me with the sales data for July, and I can help you with the analysis.\n"
     ]
    }
   ],
   "source": [
    "from langchain_core.prompts import ChatPromptTemplate\n",
    "from langchain.chat_models import ChatOpenAI\n",
    "\n",
    "template = ChatPromptTemplate.from_messages([\n",
    "    (\"system\", \"You are a data analyst.\"),\n",
    "    (\"human\", \"Can you analyze the sales for {month}?\")\n",
    "])\n",
    "\n",
    "messages = template.format_messages(month=\"July\")\n",
    "\n",
    "llm = ChatOpenAI()\n",
    "response = llm(messages)\n",
    "print(response.content)\n"
   ]
  }
 ],
 "metadata": {
  "kernelspec": {
   "display_name": "langchain-env",
   "language": "python",
   "name": "python3"
  },
  "language_info": {
   "codemirror_mode": {
    "name": "ipython",
    "version": 3
   },
   "file_extension": ".py",
   "mimetype": "text/x-python",
   "name": "python",
   "nbconvert_exporter": "python",
   "pygments_lexer": "ipython3",
   "version": "3.11.13"
  }
 },
 "nbformat": 4,
 "nbformat_minor": 5
}
