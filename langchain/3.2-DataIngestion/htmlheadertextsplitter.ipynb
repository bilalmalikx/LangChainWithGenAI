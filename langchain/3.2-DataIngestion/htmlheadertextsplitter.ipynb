{
 "cells": [
  {
   "cell_type": "code",
   "execution_count": 3,
   "id": "d6614473",
   "metadata": {},
   "outputs": [
    {
     "ename": "NameError",
     "evalue": "name 'headers_to_split_on' is not defined",
     "output_type": "error",
     "traceback": [
      "\u001b[31m---------------------------------------------------------------------------\u001b[39m",
      "\u001b[31mNameError\u001b[39m                                 Traceback (most recent call last)",
      "\u001b[36mCell\u001b[39m\u001b[36m \u001b[39m\u001b[32mIn[3]\u001b[39m\u001b[32m, line 35\u001b[39m\n\u001b[32m      3\u001b[39m html_string = \u001b[33m\"\"\"\u001b[39m\n\u001b[32m      4\u001b[39m \u001b[33m<!DOCTYPE html>\u001b[39m\n\u001b[32m      5\u001b[39m \u001b[33m<html>\u001b[39m\n\u001b[32m   (...)\u001b[39m\u001b[32m     26\u001b[39m \u001b[33m</html>\u001b[39m\n\u001b[32m     27\u001b[39m \u001b[33m\"\"\"\u001b[39m\n\u001b[32m     29\u001b[39m header_to_split_on=[\n\u001b[32m     30\u001b[39m     (\u001b[33m\"\u001b[39m\u001b[33mh1\u001b[39m\u001b[33m\"\u001b[39m,\u001b[33m\"\u001b[39m\u001b[33mHeader 1\u001b[39m\u001b[33m\"\u001b[39m),\n\u001b[32m     31\u001b[39m     (\u001b[33m\"\u001b[39m\u001b[33mh2\u001b[39m\u001b[33m\"\u001b[39m,\u001b[33m\"\u001b[39m\u001b[33mHeader 2\u001b[39m\u001b[33m\"\u001b[39m),\n\u001b[32m     32\u001b[39m     (\u001b[33m\"\u001b[39m\u001b[33mh3\u001b[39m\u001b[33m\"\u001b[39m,\u001b[33m\"\u001b[39m\u001b[33mHeader 3\u001b[39m\u001b[33m\"\u001b[39m)\n\u001b[32m     33\u001b[39m ]\n\u001b[32m---> \u001b[39m\u001b[32m35\u001b[39m html_splitter = HTMLHeaderTextSplitter(\u001b[43mheaders_to_split_on\u001b[49m)\n\u001b[32m     36\u001b[39m html_header_splitts = html_splitter.split_text(html_string)\n\u001b[32m     37\u001b[39m html_header_splitts\n",
      "\u001b[31mNameError\u001b[39m: name 'headers_to_split_on' is not defined"
     ]
    }
   ],
   "source": [
    "from langchain_text_splitters import HTMLHeaderTextSplitter\n",
    "\n",
    "html_string = \"\"\"\n",
    "<!DOCTYPE html>\n",
    "<html>\n",
    "<body>\n",
    "    <div>\n",
    "        <h1>Foo</h1>\n",
    "        <p>Some intro text about Foo.</p>\n",
    "        <div>\n",
    "            <h2>Bar main section</h2>\n",
    "            <p>Some intro text about Bar.</p>\n",
    "            <h3>Bar subsection 1</h3>\n",
    "            <p>Some text about the first subtopic of Bar.</p>\n",
    "            <h3>Bar subsection 2</h3>\n",
    "            <p>Some text about the second subtopic of Bar.</p>\n",
    "        </div>\n",
    "        <div>\n",
    "            <h2>Baz</h2>\n",
    "            <p>Some text about Baz</p>\n",
    "        </div>\n",
    "        <br>\n",
    "        <p>Some concluding text about Foo</p>\n",
    "    </div>\n",
    "</body>\n",
    "</html>\n",
    "\"\"\"\n",
    "\n",
    "header_to_split_on=[\n",
    "    (\"h1\",\"Header 1\"),\n",
    "    (\"h2\",\"Header 2\"),\n",
    "    (\"h3\",\"Header 3\")\n",
    "]\n",
    "\n",
    "html_splitter = HTMLHeaderTextSplitter(headers_to_split_on)\n",
    "html_header_splitts = html_splitter.split_text(html_string)\n",
    "html_header_splitts"
   ]
  }
 ],
 "metadata": {
  "kernelspec": {
   "display_name": "base",
   "language": "python",
   "name": "python3"
  },
  "language_info": {
   "codemirror_mode": {
    "name": "ipython",
    "version": 3
   },
   "file_extension": ".py",
   "mimetype": "text/x-python",
   "name": "python",
   "nbconvert_exporter": "python",
   "pygments_lexer": "ipython3",
   "version": "3.13.5"
  }
 },
 "nbformat": 4,
 "nbformat_minor": 5
}
