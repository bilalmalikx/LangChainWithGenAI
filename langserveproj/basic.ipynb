{
 "cells": [
  {
   "cell_type": "code",
   "execution_count": 2,
   "id": "f128bd6e",
   "metadata": {},
   "outputs": [
    {
     "name": "stdout",
     "output_type": "stream",
     "text": [
      "Collecting langserve\n",
      "  Downloading langserve-0.3.1-py3-none-any.whl.metadata (40 kB)\n",
      "Requirement already satisfied: httpx<1.0,>=0.23.0 in /opt/miniconda3/envs/langchain-env/lib/python3.11/site-packages (from langserve) (0.28.1)\n",
      "Requirement already satisfied: langchain-core<0.4,>=0.3 in /opt/miniconda3/envs/langchain-env/lib/python3.11/site-packages (from langserve) (0.3.72)\n",
      "Requirement already satisfied: orjson<4,>=2 in /opt/miniconda3/envs/langchain-env/lib/python3.11/site-packages (from langserve) (3.11.1)\n",
      "Requirement already satisfied: pydantic<3.0,>=2.7 in /opt/miniconda3/envs/langchain-env/lib/python3.11/site-packages (from langserve) (2.11.7)\n",
      "Requirement already satisfied: anyio in /opt/miniconda3/envs/langchain-env/lib/python3.11/site-packages (from httpx<1.0,>=0.23.0->langserve) (4.9.0)\n",
      "Requirement already satisfied: certifi in /opt/miniconda3/envs/langchain-env/lib/python3.11/site-packages (from httpx<1.0,>=0.23.0->langserve) (2025.7.14)\n",
      "Requirement already satisfied: httpcore==1.* in /opt/miniconda3/envs/langchain-env/lib/python3.11/site-packages (from httpx<1.0,>=0.23.0->langserve) (1.0.9)\n",
      "Requirement already satisfied: idna in /opt/miniconda3/envs/langchain-env/lib/python3.11/site-packages (from httpx<1.0,>=0.23.0->langserve) (3.10)\n",
      "Requirement already satisfied: h11>=0.16 in /opt/miniconda3/envs/langchain-env/lib/python3.11/site-packages (from httpcore==1.*->httpx<1.0,>=0.23.0->langserve) (0.16.0)\n",
      "Requirement already satisfied: langsmith>=0.3.45 in /opt/miniconda3/envs/langchain-env/lib/python3.11/site-packages (from langchain-core<0.4,>=0.3->langserve) (0.4.8)\n",
      "Requirement already satisfied: tenacity!=8.4.0,<10.0.0,>=8.1.0 in /opt/miniconda3/envs/langchain-env/lib/python3.11/site-packages (from langchain-core<0.4,>=0.3->langserve) (9.1.2)\n",
      "Requirement already satisfied: jsonpatch<2.0,>=1.33 in /opt/miniconda3/envs/langchain-env/lib/python3.11/site-packages (from langchain-core<0.4,>=0.3->langserve) (1.33)\n",
      "Requirement already satisfied: PyYAML>=5.3 in /opt/miniconda3/envs/langchain-env/lib/python3.11/site-packages (from langchain-core<0.4,>=0.3->langserve) (6.0.2)\n",
      "Requirement already satisfied: typing-extensions>=4.7 in /opt/miniconda3/envs/langchain-env/lib/python3.11/site-packages (from langchain-core<0.4,>=0.3->langserve) (4.14.1)\n",
      "Requirement already satisfied: packaging>=23.2 in /opt/miniconda3/envs/langchain-env/lib/python3.11/site-packages (from langchain-core<0.4,>=0.3->langserve) (25.0)\n",
      "Requirement already satisfied: jsonpointer>=1.9 in /opt/miniconda3/envs/langchain-env/lib/python3.11/site-packages (from jsonpatch<2.0,>=1.33->langchain-core<0.4,>=0.3->langserve) (3.0.0)\n",
      "Requirement already satisfied: annotated-types>=0.6.0 in /opt/miniconda3/envs/langchain-env/lib/python3.11/site-packages (from pydantic<3.0,>=2.7->langserve) (0.7.0)\n",
      "Requirement already satisfied: pydantic-core==2.33.2 in /opt/miniconda3/envs/langchain-env/lib/python3.11/site-packages (from pydantic<3.0,>=2.7->langserve) (2.33.2)\n",
      "Requirement already satisfied: typing-inspection>=0.4.0 in /opt/miniconda3/envs/langchain-env/lib/python3.11/site-packages (from pydantic<3.0,>=2.7->langserve) (0.4.1)\n",
      "Requirement already satisfied: requests<3,>=2 in /opt/miniconda3/envs/langchain-env/lib/python3.11/site-packages (from langsmith>=0.3.45->langchain-core<0.4,>=0.3->langserve) (2.32.4)\n",
      "Requirement already satisfied: requests-toolbelt<2.0.0,>=1.0.0 in /opt/miniconda3/envs/langchain-env/lib/python3.11/site-packages (from langsmith>=0.3.45->langchain-core<0.4,>=0.3->langserve) (1.0.0)\n",
      "Requirement already satisfied: zstandard<0.24.0,>=0.23.0 in /opt/miniconda3/envs/langchain-env/lib/python3.11/site-packages (from langsmith>=0.3.45->langchain-core<0.4,>=0.3->langserve) (0.23.0)\n",
      "Requirement already satisfied: charset_normalizer<4,>=2 in /opt/miniconda3/envs/langchain-env/lib/python3.11/site-packages (from requests<3,>=2->langsmith>=0.3.45->langchain-core<0.4,>=0.3->langserve) (3.4.2)\n",
      "Requirement already satisfied: urllib3<3,>=1.21.1 in /opt/miniconda3/envs/langchain-env/lib/python3.11/site-packages (from requests<3,>=2->langsmith>=0.3.45->langchain-core<0.4,>=0.3->langserve) (2.5.0)\n",
      "Requirement already satisfied: sniffio>=1.1 in /opt/miniconda3/envs/langchain-env/lib/python3.11/site-packages (from anyio->httpx<1.0,>=0.23.0->langserve) (1.3.1)\n",
      "Downloading langserve-0.3.1-py3-none-any.whl (1.2 MB)\n",
      "\u001b[2K   \u001b[90m━━━━━━━━━━━━━━━━━━━━━━━━━━━━━━━━━━━━━━━━\u001b[0m \u001b[32m1.2/1.2 MB\u001b[0m \u001b[31m1.5 MB/s\u001b[0m eta \u001b[36m0:00:00\u001b[0ma \u001b[36m0:00:01\u001b[0m\n",
      "\u001b[?25hInstalling collected packages: langserve\n",
      "Successfully installed langserve-0.3.1\n"
     ]
    }
   ],
   "source": [
    "!pip install langserve"
   ]
  },
  {
   "cell_type": "code",
   "execution_count": 11,
   "id": "0d08743c",
   "metadata": {},
   "outputs": [
    {
     "name": "stdout",
     "output_type": "stream",
     "text": [
      "Requirement already satisfied: pydantic<3.0,>=2.5 in /opt/miniconda3/envs/langchain-env/lib/python3.11/site-packages (2.11.7)\n",
      "Requirement already satisfied: fastapi>=0.100.0 in /opt/miniconda3/envs/langchain-env/lib/python3.11/site-packages (0.116.1)\n",
      "Requirement already satisfied: langchain in /opt/miniconda3/envs/langchain-env/lib/python3.11/site-packages (0.3.27)\n",
      "Requirement already satisfied: langchain-core in /opt/miniconda3/envs/langchain-env/lib/python3.11/site-packages (0.3.72)\n",
      "Requirement already satisfied: langserve in /opt/miniconda3/envs/langchain-env/lib/python3.11/site-packages (0.3.1)\n",
      "Requirement already satisfied: annotated-types>=0.6.0 in /opt/miniconda3/envs/langchain-env/lib/python3.11/site-packages (from pydantic<3.0,>=2.5) (0.7.0)\n",
      "Requirement already satisfied: pydantic-core==2.33.2 in /opt/miniconda3/envs/langchain-env/lib/python3.11/site-packages (from pydantic<3.0,>=2.5) (2.33.2)\n",
      "Requirement already satisfied: typing-extensions>=4.12.2 in /opt/miniconda3/envs/langchain-env/lib/python3.11/site-packages (from pydantic<3.0,>=2.5) (4.14.1)\n",
      "Requirement already satisfied: typing-inspection>=0.4.0 in /opt/miniconda3/envs/langchain-env/lib/python3.11/site-packages (from pydantic<3.0,>=2.5) (0.4.1)\n",
      "Requirement already satisfied: starlette<0.48.0,>=0.40.0 in /opt/miniconda3/envs/langchain-env/lib/python3.11/site-packages (from fastapi>=0.100.0) (0.47.2)\n",
      "Requirement already satisfied: anyio<5,>=3.6.2 in /opt/miniconda3/envs/langchain-env/lib/python3.11/site-packages (from starlette<0.48.0,>=0.40.0->fastapi>=0.100.0) (4.9.0)\n",
      "Requirement already satisfied: idna>=2.8 in /opt/miniconda3/envs/langchain-env/lib/python3.11/site-packages (from anyio<5,>=3.6.2->starlette<0.48.0,>=0.40.0->fastapi>=0.100.0) (3.10)\n",
      "Requirement already satisfied: sniffio>=1.1 in /opt/miniconda3/envs/langchain-env/lib/python3.11/site-packages (from anyio<5,>=3.6.2->starlette<0.48.0,>=0.40.0->fastapi>=0.100.0) (1.3.1)\n",
      "Requirement already satisfied: langchain-text-splitters<1.0.0,>=0.3.9 in /opt/miniconda3/envs/langchain-env/lib/python3.11/site-packages (from langchain) (0.3.9)\n",
      "Requirement already satisfied: langsmith>=0.1.17 in /opt/miniconda3/envs/langchain-env/lib/python3.11/site-packages (from langchain) (0.4.8)\n",
      "Requirement already satisfied: SQLAlchemy<3,>=1.4 in /opt/miniconda3/envs/langchain-env/lib/python3.11/site-packages (from langchain) (2.0.41)\n",
      "Requirement already satisfied: requests<3,>=2 in /opt/miniconda3/envs/langchain-env/lib/python3.11/site-packages (from langchain) (2.32.4)\n",
      "Requirement already satisfied: PyYAML>=5.3 in /opt/miniconda3/envs/langchain-env/lib/python3.11/site-packages (from langchain) (6.0.2)\n",
      "Requirement already satisfied: tenacity!=8.4.0,<10.0.0,>=8.1.0 in /opt/miniconda3/envs/langchain-env/lib/python3.11/site-packages (from langchain-core) (9.1.2)\n",
      "Requirement already satisfied: jsonpatch<2.0,>=1.33 in /opt/miniconda3/envs/langchain-env/lib/python3.11/site-packages (from langchain-core) (1.33)\n",
      "Requirement already satisfied: packaging>=23.2 in /opt/miniconda3/envs/langchain-env/lib/python3.11/site-packages (from langchain-core) (25.0)\n",
      "Requirement already satisfied: jsonpointer>=1.9 in /opt/miniconda3/envs/langchain-env/lib/python3.11/site-packages (from jsonpatch<2.0,>=1.33->langchain-core) (3.0.0)\n",
      "Requirement already satisfied: charset_normalizer<4,>=2 in /opt/miniconda3/envs/langchain-env/lib/python3.11/site-packages (from requests<3,>=2->langchain) (3.4.2)\n",
      "Requirement already satisfied: urllib3<3,>=1.21.1 in /opt/miniconda3/envs/langchain-env/lib/python3.11/site-packages (from requests<3,>=2->langchain) (2.5.0)\n",
      "Requirement already satisfied: certifi>=2017.4.17 in /opt/miniconda3/envs/langchain-env/lib/python3.11/site-packages (from requests<3,>=2->langchain) (2025.7.14)\n",
      "Requirement already satisfied: httpx<1.0,>=0.23.0 in /opt/miniconda3/envs/langchain-env/lib/python3.11/site-packages (from langserve) (0.28.1)\n",
      "Requirement already satisfied: orjson<4,>=2 in /opt/miniconda3/envs/langchain-env/lib/python3.11/site-packages (from langserve) (3.11.1)\n",
      "Requirement already satisfied: httpcore==1.* in /opt/miniconda3/envs/langchain-env/lib/python3.11/site-packages (from httpx<1.0,>=0.23.0->langserve) (1.0.9)\n",
      "Requirement already satisfied: h11>=0.16 in /opt/miniconda3/envs/langchain-env/lib/python3.11/site-packages (from httpcore==1.*->httpx<1.0,>=0.23.0->langserve) (0.16.0)\n",
      "Requirement already satisfied: requests-toolbelt<2.0.0,>=1.0.0 in /opt/miniconda3/envs/langchain-env/lib/python3.11/site-packages (from langsmith>=0.1.17->langchain) (1.0.0)\n",
      "Requirement already satisfied: zstandard<0.24.0,>=0.23.0 in /opt/miniconda3/envs/langchain-env/lib/python3.11/site-packages (from langsmith>=0.1.17->langchain) (0.23.0)\n",
      "Note: you may need to restart the kernel to use updated packages.\n"
     ]
    }
   ],
   "source": [
    "pip install --upgrade \"pydantic>=2.5,<3.0\" \"fastapi>=0.100.0\" langchain langchain-core langserve\n"
   ]
  }
 ],
 "metadata": {
  "kernelspec": {
   "display_name": "langchain-env",
   "language": "python",
   "name": "python3"
  },
  "language_info": {
   "codemirror_mode": {
    "name": "ipython",
    "version": 3
   },
   "file_extension": ".py",
   "mimetype": "text/x-python",
   "name": "python",
   "nbconvert_exporter": "python",
   "pygments_lexer": "ipython3",
   "version": "3.11.13"
  }
 },
 "nbformat": 4,
 "nbformat_minor": 5
}
