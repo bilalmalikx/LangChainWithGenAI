{
 "cells": [
  {
   "cell_type": "code",
   "execution_count": 15,
   "id": "3135c342",
   "metadata": {},
   "outputs": [
    {
     "data": {
      "text/plain": [
       "'السلام علیکم، آپ کیسے ہو؟\\n\\n(As-salamu alaykum, aap kaise ho?)'"
      ]
     },
     "execution_count": 15,
     "metadata": {},
     "output_type": "execute_result"
    }
   ],
   "source": [
    "# learn how to use open source model\n",
    "import os\n",
    "from dotenv import load_dotenv\n",
    "load_dotenv()\n",
    "\n",
    "from langchain_groq import ChatGroq\n",
    "from langchain_core.messages import HumanMessage, SystemMessage\n",
    "\n",
    "# Set the API key to environment variable (alternative to using .env)\n",
    "os.environ[\"GROQ_API_KEY\"] = os.getenv(\"GROQ_API_KEY\")\n",
    "\n",
    "# Initialize the Groq model\n",
    "model = ChatGroq(model=\"llama3-8b-8192\")  # Make sure to use the correct model name\n",
    "\n",
    "# Prepare messages\n",
    "messages = [\n",
    "    SystemMessage(content=\"Translate the following from English to Urdu\"),\n",
    "    HumanMessage(content=\"Hello how are you?\")\n",
    "]\n",
    "\n",
    "# Invoke the model\n",
    "response = model.invoke(messages)\n",
    "\n",
    "# Print response\n",
    "from langchain_core.output_parsers import StrOutputParser\n",
    "\n",
    "result = StrOutputParser()\n",
    "result.invoke(response)\n"
   ]
  },
  {
   "cell_type": "code",
   "execution_count": 18,
   "id": "a688bfee",
   "metadata": {},
   "outputs": [
    {
     "data": {
      "text/plain": [
       "'\"Alo, tum kaise ho?\"'"
      ]
     },
     "execution_count": 18,
     "metadata": {},
     "output_type": "execute_result"
    }
   ],
   "source": [
    "chain = model|result\n",
    "chain.invoke(messages)"
   ]
  },
  {
   "cell_type": "code",
   "execution_count": 24,
   "id": "8c9cabd4",
   "metadata": {},
   "outputs": [],
   "source": [
    "from langchain_core.prompts import ChatPromptTemplate\n",
    "\n",
    "# Define the string variable first\n",
    "prompt_template = \"Translate the following into {language}:\"\n",
    "\n",
    "# Now use it properly\n",
    "prompt = ChatPromptTemplate.from_messages([\n",
    "    (\"system\", prompt_template),\n",
    "    (\"user\", \"{text}\")\n",
    "])\n"
   ]
  },
  {
   "cell_type": "code",
   "execution_count": 25,
   "id": "3d266579",
   "metadata": {},
   "outputs": [
    {
     "data": {
      "text/plain": [
       "ChatPromptValue(messages=[SystemMessage(content='Translate the following into French:', additional_kwargs={}, response_metadata={}), HumanMessage(content='Hello', additional_kwargs={}, response_metadata={})])"
      ]
     },
     "execution_count": 25,
     "metadata": {},
     "output_type": "execute_result"
    }
   ],
   "source": [
    "prompt.invoke({\"language\":\"French\",\"text\":\"Hello\"})"
   ]
  },
  {
   "cell_type": "code",
   "execution_count": 26,
   "id": "826a9d3b",
   "metadata": {},
   "outputs": [
    {
     "data": {
      "text/plain": [
       "'Bonjour'"
      ]
     },
     "execution_count": 26,
     "metadata": {},
     "output_type": "execute_result"
    }
   ],
   "source": [
    "chain = prompt|model|result\n",
    "chain.invoke({\"language\":\"French\",\"text\":\"Hello\"})"
   ]
  },
  {
   "cell_type": "code",
   "execution_count": null,
   "id": "f81f0445",
   "metadata": {},
   "outputs": [],
   "source": []
  },
  {
   "cell_type": "code",
   "execution_count": null,
   "id": "d367bafa",
   "metadata": {},
   "outputs": [],
   "source": []
  }
 ],
 "metadata": {
  "kernelspec": {
   "display_name": "langchain-env",
   "language": "python",
   "name": "python3"
  },
  "language_info": {
   "codemirror_mode": {
    "name": "ipython",
    "version": 3
   },
   "file_extension": ".py",
   "mimetype": "text/x-python",
   "name": "python",
   "nbconvert_exporter": "python",
   "pygments_lexer": "ipython3",
   "version": "3.11.13"
  }
 },
 "nbformat": 4,
 "nbformat_minor": 5
}
