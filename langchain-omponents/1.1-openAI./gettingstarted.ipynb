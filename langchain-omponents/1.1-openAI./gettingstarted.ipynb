{
 "cells": [
  {
   "cell_type": "code",
   "execution_count": null,
   "id": "0d83936e",
   "metadata": {},
   "outputs": [],
   "source": [
    "import os\n",
    "from dotenv import load_dotenv\n",
    "load_dotenv()\n",
    "\n",
    "os.environ['OPENAI_API_KEY'] = os.getenv('OPENAI_API_KEY')\n",
    "os.environ['LANGCHAIN_API_KEY'] = os.getenv('LANGCHAIN_API_KEY')\n",
    "os.environ['LANGCHAIN_PROJECT'] = os.getenv('LANGCHAIN_PROJECT')\n",
    "os.environ['LANGCHAIN_TRACING_V2'] = 'true'\n",
    "\n",
    "# Step 3: Setup LangSmith Tracer\n",
    "from langsmith import traceable\n",
    "from langchain.callbacks.tracers.langchain import LangChainTracer\n",
    "\n",
    "tracer = LangChainTracer()\n",
    "\n",
    "# Step 4: Use LangChain with OpenAI + LangSmith\n",
    "from langchain_openai import ChatOpenAI\n",
    "\n",
    "\n"
   ]
  },
  {
   "cell_type": "code",
   "execution_count": 35,
   "id": "c19a23b2",
   "metadata": {},
   "outputs": [],
   "source": [
    "llm = ChatOpenAI(model=\"gpt-4o\")\n",
    "\n",
    "# Step 5: Send a prompt\n",
    "response = llm.invoke(\"how can i learn about agentic ai\", config={\"callbacks\": [tracer]})\n"
   ]
  },
  {
   "cell_type": "code",
   "execution_count": 41,
   "id": "297c8364",
   "metadata": {},
   "outputs": [
    {
     "data": {
      "text/plain": [
       "ChatPromptTemplate(input_variables=['input'], input_types={}, partial_variables={}, messages=[SystemMessagePromptTemplate(prompt=PromptTemplate(input_variables=[], input_types={}, partial_variables={}, template='you are an expertin AI Enginner. Provide me the answer based on the question.'), additional_kwargs={}), HumanMessagePromptTemplate(prompt=PromptTemplate(input_variables=['input'], input_types={}, partial_variables={}, template='{input}'), additional_kwargs={})])"
      ]
     },
     "execution_count": 41,
     "metadata": {},
     "output_type": "execute_result"
    }
   ],
   "source": [
    "from langchain_core.prompts import ChatPromptTemplate\n",
    "\n",
    "prompt = ChatPromptTemplate.from_messages(\n",
    "    [\n",
    "        (\"system\",\"you are an expertin AI Enginner. Provide me the answer based on the question.\"),\n",
    "        (\"user\",\"{input}\")\n",
    "    ]\n",
    ")\n",
    "prompt"
   ]
  },
  {
   "cell_type": "code",
   "execution_count": 42,
   "id": "63a1736b",
   "metadata": {},
   "outputs": [
    {
     "name": "stdout",
     "output_type": "stream",
     "text": [
      "content=\"LangSmith is a tool developed by LangChain that offers developers capabilities to evaluate, track, and debug their LLM (Large Language Model) applications. It simplifies the process of creating robust and reliable language model applications by focusing on three main areas:\\n\\n1. **Monitoring**: LangSmith provides insights into how your language models are performing in real-time, enabling you to track various metrics and usage patterns. This helps in understanding how effectively the model meets your application's needs.\\n\\n2. **Debugging**: By offering detailed logs and tracing capabilities, LangSmith helps developers identify and resolve issues within their language model application. This makes it easier to pinpoint flaws or inefficiencies and refine the model’s behavior under specific conditions.\\n\\n3. **Testing and Evaluation**: LangSmith includes features for testing models against diverse datasets and scenarios to ensure they perform optimally. It allows for comprehensive evaluation metrics to be set, which helps in judging the quality and performance of the models in various contexts.\\n\\nOverall, LangSmith aims to streamline the development cycle of LLM applications by providing tools that facilitate performance monitoring, debugging, and thorough evaluation.\" additional_kwargs={'refusal': None} response_metadata={'token_usage': {'completion_tokens': 222, 'prompt_tokens': 37, 'total_tokens': 259, 'completion_tokens_details': {'accepted_prediction_tokens': 0, 'audio_tokens': 0, 'reasoning_tokens': 0, 'rejected_prediction_tokens': 0}, 'prompt_tokens_details': {'audio_tokens': 0, 'cached_tokens': 0}}, 'model_name': 'gpt-4o-2024-08-06', 'system_fingerprint': 'fp_a288987b44', 'id': 'chatcmpl-BzA3slFSHlB9fdkiarLraq8qXbKPx', 'service_tier': 'default', 'finish_reason': 'stop', 'logprobs': None} id='run--99bacfec-a08c-4551-89bd-6a0d18a1ecfb-0' usage_metadata={'input_tokens': 37, 'output_tokens': 222, 'total_tokens': 259, 'input_token_details': {'audio': 0, 'cache_read': 0}, 'output_token_details': {'audio': 0, 'reasoning': 0}}\n"
     ]
    }
   ],
   "source": [
    "chain=prompt|llm\n",
    "result=chain.invoke({\"input\":\"Can you tell me about langsmith?\"}, config={\"callbacks\": [tracer]})\n",
    "\n",
    "print(result)"
   ]
  },
  {
   "cell_type": "code",
   "execution_count": 43,
   "id": "c829509b",
   "metadata": {},
   "outputs": [
    {
     "name": "stdout",
     "output_type": "stream",
     "text": [
      "LangSmith is not a specific well-defined entity or concept as of my last update in October 2023. It could potentially refer to a few different things, such as:\n",
      "\n",
      "1. **Hypothetical Company or Tool**: It might be an emerging company, tool, or platform that has not gained widespread recognition yet, potentially related to language processing, AI development, or natural language generation.\n",
      "\n",
      "2. **Conceptual Term**: The name \"LangSmith\" could figuratively describe an individual or entity that is highly skilled in language creation, manipulation, or analysis, akin to a blacksmith or wordsmith.\n",
      "\n",
      "3. **Niche Community or Project**: It might be a community or a niche project focused on language model development, natural linguistics, or similar themes not yet widely publicized.\n",
      "\n",
      "In any of these cases, further context or details would be necessary to provide a more accurate or specific explanation. If LangSmith is a new product or term that emerged after October 2023, I would not have details on it.\n"
     ]
    }
   ],
   "source": [
    "from langchain_core.output_parsers import StrOutputParser\n",
    "\n",
    "output_parser=StrOutputParser()\n",
    "chain=prompt|llm|output_parser\n",
    "result=chain.invoke({\"input\":\"Can you tell me about langsmith?\"}, config={\"callbacks\": [tracer]})\n",
    "\n",
    "print(result)\n"
   ]
  },
  {
   "cell_type": "code",
   "execution_count": null,
   "id": "ce6ab485",
   "metadata": {},
   "outputs": [],
   "source": []
  }
 ],
 "metadata": {
  "kernelspec": {
   "display_name": "langchain-env",
   "language": "python",
   "name": "python3"
  },
  "language_info": {
   "codemirror_mode": {
    "name": "ipython",
    "version": 3
   },
   "file_extension": ".py",
   "mimetype": "text/x-python",
   "name": "python",
   "nbconvert_exporter": "python",
   "pygments_lexer": "ipython3",
   "version": "3.11.13"
  }
 },
 "nbformat": 4,
 "nbformat_minor": 5
}
